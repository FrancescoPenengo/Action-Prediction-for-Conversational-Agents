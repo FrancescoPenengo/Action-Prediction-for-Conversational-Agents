{
  "nbformat": 4,
  "nbformat_minor": 0,
  "metadata": {
    "accelerator": "GPU",
    "colab": {
      "name": "ML_Project_v20210208.ipynb",
      "provenance": [],
      "collapsed_sections": []
    },
    "kernelspec": {
      "display_name": "Python 3",
      "language": "python",
      "name": "python3"
    },
    "language_info": {
      "codemirror_mode": {
        "name": "ipython",
        "version": 3
      },
      "file_extension": ".py",
      "mimetype": "text/x-python",
      "name": "python",
      "nbconvert_exporter": "python",
      "pygments_lexer": "ipython3",
      "version": "3.7.4"
    }
  },
  "cells": [
    {
      "cell_type": "markdown",
      "metadata": {
        "id": "2i2UGdhL91Ho"
      },
      "source": [
        "# Libraries\r\n",
        "\r\n",
        "\r\n",
        "\r\n"
      ]
    },
    {
      "cell_type": "code",
      "metadata": {
        "colab": {
          "base_uri": "https://localhost:8080/"
        },
        "id": "0F7-c1iU5xly",
        "outputId": "d5c3c0cd-2c9d-4a63-fab2-c140862b60bd"
      },
      "source": [
        "!pip install transformers==4.0.0\n",
        "!pip install tensorboardX\n",
        "!pip install pytorch-pretrained-bert\n",
        "!pip install torch-optimizer"
      ],
      "execution_count": 3,
      "outputs": [
        {
          "output_type": "stream",
          "text": [
            "Requirement already satisfied: transformers==4.0.0 in /usr/local/lib/python3.6/dist-packages (4.0.0)\n",
            "Requirement already satisfied: numpy in /usr/local/lib/python3.6/dist-packages (from transformers==4.0.0) (1.19.5)\n",
            "Requirement already satisfied: packaging in /usr/local/lib/python3.6/dist-packages (from transformers==4.0.0) (20.9)\n",
            "Requirement already satisfied: sacremoses in /usr/local/lib/python3.6/dist-packages (from transformers==4.0.0) (0.0.43)\n",
            "Requirement already satisfied: requests in /usr/local/lib/python3.6/dist-packages (from transformers==4.0.0) (2.23.0)\n",
            "Requirement already satisfied: dataclasses; python_version < \"3.7\" in /usr/local/lib/python3.6/dist-packages (from transformers==4.0.0) (0.8)\n",
            "Requirement already satisfied: tqdm>=4.27 in /usr/local/lib/python3.6/dist-packages (from transformers==4.0.0) (4.41.1)\n",
            "Requirement already satisfied: regex!=2019.12.17 in /usr/local/lib/python3.6/dist-packages (from transformers==4.0.0) (2019.12.20)\n",
            "Requirement already satisfied: tokenizers==0.9.4 in /usr/local/lib/python3.6/dist-packages (from transformers==4.0.0) (0.9.4)\n",
            "Requirement already satisfied: filelock in /usr/local/lib/python3.6/dist-packages (from transformers==4.0.0) (3.0.12)\n",
            "Requirement already satisfied: pyparsing>=2.0.2 in /usr/local/lib/python3.6/dist-packages (from packaging->transformers==4.0.0) (2.4.7)\n",
            "Requirement already satisfied: joblib in /usr/local/lib/python3.6/dist-packages (from sacremoses->transformers==4.0.0) (1.0.0)\n",
            "Requirement already satisfied: click in /usr/local/lib/python3.6/dist-packages (from sacremoses->transformers==4.0.0) (7.1.2)\n",
            "Requirement already satisfied: six in /usr/local/lib/python3.6/dist-packages (from sacremoses->transformers==4.0.0) (1.15.0)\n",
            "Requirement already satisfied: certifi>=2017.4.17 in /usr/local/lib/python3.6/dist-packages (from requests->transformers==4.0.0) (2020.12.5)\n",
            "Requirement already satisfied: idna<3,>=2.5 in /usr/local/lib/python3.6/dist-packages (from requests->transformers==4.0.0) (2.10)\n",
            "Requirement already satisfied: urllib3!=1.25.0,!=1.25.1,<1.26,>=1.21.1 in /usr/local/lib/python3.6/dist-packages (from requests->transformers==4.0.0) (1.24.3)\n",
            "Requirement already satisfied: chardet<4,>=3.0.2 in /usr/local/lib/python3.6/dist-packages (from requests->transformers==4.0.0) (3.0.4)\n",
            "Requirement already satisfied: tensorboardX in /usr/local/lib/python3.6/dist-packages (2.1)\n",
            "Requirement already satisfied: numpy in /usr/local/lib/python3.6/dist-packages (from tensorboardX) (1.19.5)\n",
            "Requirement already satisfied: six in /usr/local/lib/python3.6/dist-packages (from tensorboardX) (1.15.0)\n",
            "Requirement already satisfied: protobuf>=3.8.0 in /usr/local/lib/python3.6/dist-packages (from tensorboardX) (3.12.4)\n",
            "Requirement already satisfied: setuptools in /usr/local/lib/python3.6/dist-packages (from protobuf>=3.8.0->tensorboardX) (53.0.0)\n",
            "Requirement already satisfied: pytorch-pretrained-bert in /usr/local/lib/python3.6/dist-packages (0.6.2)\n",
            "Requirement already satisfied: boto3 in /usr/local/lib/python3.6/dist-packages (from pytorch-pretrained-bert) (1.17.7)\n",
            "Requirement already satisfied: requests in /usr/local/lib/python3.6/dist-packages (from pytorch-pretrained-bert) (2.23.0)\n",
            "Requirement already satisfied: numpy in /usr/local/lib/python3.6/dist-packages (from pytorch-pretrained-bert) (1.19.5)\n",
            "Requirement already satisfied: tqdm in /usr/local/lib/python3.6/dist-packages (from pytorch-pretrained-bert) (4.41.1)\n",
            "Requirement already satisfied: regex in /usr/local/lib/python3.6/dist-packages (from pytorch-pretrained-bert) (2019.12.20)\n",
            "Requirement already satisfied: torch>=0.4.1 in /usr/local/lib/python3.6/dist-packages (from pytorch-pretrained-bert) (1.7.0+cu101)\n",
            "Requirement already satisfied: jmespath<1.0.0,>=0.7.1 in /usr/local/lib/python3.6/dist-packages (from boto3->pytorch-pretrained-bert) (0.10.0)\n",
            "Requirement already satisfied: s3transfer<0.4.0,>=0.3.0 in /usr/local/lib/python3.6/dist-packages (from boto3->pytorch-pretrained-bert) (0.3.4)\n",
            "Requirement already satisfied: botocore<1.21.0,>=1.20.7 in /usr/local/lib/python3.6/dist-packages (from boto3->pytorch-pretrained-bert) (1.20.7)\n",
            "Requirement already satisfied: idna<3,>=2.5 in /usr/local/lib/python3.6/dist-packages (from requests->pytorch-pretrained-bert) (2.10)\n",
            "Requirement already satisfied: chardet<4,>=3.0.2 in /usr/local/lib/python3.6/dist-packages (from requests->pytorch-pretrained-bert) (3.0.4)\n",
            "Requirement already satisfied: urllib3!=1.25.0,!=1.25.1,<1.26,>=1.21.1 in /usr/local/lib/python3.6/dist-packages (from requests->pytorch-pretrained-bert) (1.24.3)\n",
            "Requirement already satisfied: certifi>=2017.4.17 in /usr/local/lib/python3.6/dist-packages (from requests->pytorch-pretrained-bert) (2020.12.5)\n",
            "Requirement already satisfied: dataclasses in /usr/local/lib/python3.6/dist-packages (from torch>=0.4.1->pytorch-pretrained-bert) (0.8)\n",
            "Requirement already satisfied: typing-extensions in /usr/local/lib/python3.6/dist-packages (from torch>=0.4.1->pytorch-pretrained-bert) (3.7.4.3)\n",
            "Requirement already satisfied: future in /usr/local/lib/python3.6/dist-packages (from torch>=0.4.1->pytorch-pretrained-bert) (0.16.0)\n",
            "Requirement already satisfied: python-dateutil<3.0.0,>=2.1 in /usr/local/lib/python3.6/dist-packages (from botocore<1.21.0,>=1.20.7->boto3->pytorch-pretrained-bert) (2.8.1)\n",
            "Requirement already satisfied: six>=1.5 in /usr/local/lib/python3.6/dist-packages (from python-dateutil<3.0.0,>=2.1->botocore<1.21.0,>=1.20.7->boto3->pytorch-pretrained-bert) (1.15.0)\n",
            "Requirement already satisfied: torch-optimizer in /usr/local/lib/python3.6/dist-packages (0.1.0)\n",
            "Requirement already satisfied: pytorch-ranger>=0.1.1 in /usr/local/lib/python3.6/dist-packages (from torch-optimizer) (0.1.1)\n",
            "Requirement already satisfied: torch>=1.1.0 in /usr/local/lib/python3.6/dist-packages (from torch-optimizer) (1.7.0+cu101)\n",
            "Requirement already satisfied: numpy in /usr/local/lib/python3.6/dist-packages (from torch>=1.1.0->torch-optimizer) (1.19.5)\n",
            "Requirement already satisfied: future in /usr/local/lib/python3.6/dist-packages (from torch>=1.1.0->torch-optimizer) (0.16.0)\n",
            "Requirement already satisfied: dataclasses in /usr/local/lib/python3.6/dist-packages (from torch>=1.1.0->torch-optimizer) (0.8)\n",
            "Requirement already satisfied: typing-extensions in /usr/local/lib/python3.6/dist-packages (from torch>=1.1.0->torch-optimizer) (3.7.4.3)\n"
          ],
          "name": "stdout"
        }
      ]
    },
    {
      "cell_type": "markdown",
      "metadata": {
        "id": "x-tVew5eKoDt"
      },
      "source": [
        "\r\n",
        "# Dataset"
      ]
    },
    {
      "cell_type": "code",
      "metadata": {
        "id": "EH-oGS_OF6Gu",
        "colab": {
          "base_uri": "https://localhost:8080/"
        },
        "outputId": "8bce945c-cf54-476b-dbcd-76fc37306202"
      },
      "source": [
        "!wget https://github.com/facebookresearch/simmc/raw/master/data/simmc_fashion/fashion_train_dials.json"
      ],
      "execution_count": 4,
      "outputs": [
        {
          "output_type": "stream",
          "text": [
            "--2021-02-13 11:55:11--  https://github.com/facebookresearch/simmc/raw/master/data/simmc_fashion/fashion_train_dials.json\n",
            "Resolving github.com (github.com)... 140.82.114.4\n",
            "Connecting to github.com (github.com)|140.82.114.4|:443... connected.\n",
            "HTTP request sent, awaiting response... 302 Found\n",
            "Location: https://media.githubusercontent.com/media/facebookresearch/simmc/master/data/simmc_fashion/fashion_train_dials.json [following]\n",
            "--2021-02-13 11:55:11--  https://media.githubusercontent.com/media/facebookresearch/simmc/master/data/simmc_fashion/fashion_train_dials.json\n",
            "Resolving media.githubusercontent.com (media.githubusercontent.com)... 185.199.108.133, 185.199.109.133, 185.199.110.133, ...\n",
            "Connecting to media.githubusercontent.com (media.githubusercontent.com)|185.199.108.133|:443... connected.\n",
            "HTTP request sent, awaiting response... 200 OK\n",
            "Length: 62887336 (60M) [application/octet-stream]\n",
            "Saving to: ‘fashion_train_dials.json’\n",
            "\n",
            "fashion_train_dials 100%[===================>]  59.97M   286MB/s    in 0.2s    \n",
            "\n",
            "2021-02-13 11:55:12 (286 MB/s) - ‘fashion_train_dials.json’ saved [62887336/62887336]\n",
            "\n"
          ],
          "name": "stdout"
        }
      ]
    },
    {
      "cell_type": "code",
      "metadata": {
        "id": "Dqso90fPvKT6",
        "colab": {
          "base_uri": "https://localhost:8080/"
        },
        "outputId": "2ba3542f-4d58-4056-cd7e-b59ba8452111"
      },
      "source": [
        "!wget https://github.com/facebookresearch/simmc/raw/master/data/simmc_fashion/fashion_dev_dials.json"
      ],
      "execution_count": 5,
      "outputs": [
        {
          "output_type": "stream",
          "text": [
            "--2021-02-13 11:55:12--  https://github.com/facebookresearch/simmc/raw/master/data/simmc_fashion/fashion_dev_dials.json\n",
            "Resolving github.com (github.com)... 140.82.112.4\n",
            "Connecting to github.com (github.com)|140.82.112.4|:443... connected.\n",
            "HTTP request sent, awaiting response... 302 Found\n",
            "Location: https://media.githubusercontent.com/media/facebookresearch/simmc/master/data/simmc_fashion/fashion_dev_dials.json [following]\n",
            "--2021-02-13 11:55:12--  https://media.githubusercontent.com/media/facebookresearch/simmc/master/data/simmc_fashion/fashion_dev_dials.json\n",
            "Resolving media.githubusercontent.com (media.githubusercontent.com)... 185.199.108.133, 185.199.109.133, 185.199.110.133, ...\n",
            "Connecting to media.githubusercontent.com (media.githubusercontent.com)|185.199.108.133|:443... connected.\n",
            "HTTP request sent, awaiting response... 200 OK\n",
            "Length: 10390760 (9.9M) [application/octet-stream]\n",
            "Saving to: ‘fashion_dev_dials.json’\n",
            "\n",
            "fashion_dev_dials.j 100%[===================>]   9.91M  --.-KB/s    in 0.06s   \n",
            "\n",
            "2021-02-13 11:55:12 (175 MB/s) - ‘fashion_dev_dials.json’ saved [10390760/10390760]\n",
            "\n"
          ],
          "name": "stdout"
        }
      ]
    },
    {
      "cell_type": "code",
      "metadata": {
        "id": "aeuOo65TuES1",
        "colab": {
          "base_uri": "https://localhost:8080/"
        },
        "outputId": "6ccbbad6-aa19-4cf1-d4d9-af4686ec9b76"
      },
      "source": [
        "!wget https://github.com/facebookresearch/simmc/raw/master/data/simmc_fashion/fashion_teststd_dials_public.json"
      ],
      "execution_count": 6,
      "outputs": [
        {
          "output_type": "stream",
          "text": [
            "--2021-02-13 11:55:13--  https://github.com/facebookresearch/simmc/raw/master/data/simmc_fashion/fashion_teststd_dials_public.json\n",
            "Resolving github.com (github.com)... 140.82.112.4\n",
            "Connecting to github.com (github.com)|140.82.112.4|:443... connected.\n",
            "HTTP request sent, awaiting response... 302 Found\n",
            "Location: https://media.githubusercontent.com/media/facebookresearch/simmc/master/data/simmc_fashion/fashion_teststd_dials_public.json [following]\n",
            "--2021-02-13 11:55:13--  https://media.githubusercontent.com/media/facebookresearch/simmc/master/data/simmc_fashion/fashion_teststd_dials_public.json\n",
            "Resolving media.githubusercontent.com (media.githubusercontent.com)... 185.199.108.133, 185.199.109.133, 185.199.110.133, ...\n",
            "Connecting to media.githubusercontent.com (media.githubusercontent.com)|185.199.108.133|:443... connected.\n",
            "HTTP request sent, awaiting response... 200 OK\n",
            "Length: 3529872 (3.4M) [application/octet-stream]\n",
            "Saving to: ‘fashion_teststd_dials_public.json’\n",
            "\n",
            "fashion_teststd_dia 100%[===================>]   3.37M  --.-KB/s    in 0.05s   \n",
            "\n",
            "2021-02-13 11:55:13 (73.9 MB/s) - ‘fashion_teststd_dials_public.json’ saved [3529872/3529872]\n",
            "\n"
          ],
          "name": "stdout"
        }
      ]
    },
    {
      "cell_type": "code",
      "metadata": {
        "id": "ND43WMIY9FBU",
        "colab": {
          "base_uri": "https://localhost:8080/"
        },
        "outputId": "bc24f5f9-8d0a-41f8-9aed-f425a8b5152e"
      },
      "source": [
        "!wget https://github.com/facebookresearch/simmc/raw/master/data/simmc_fashion/fashion_teststd_dials_api_calls.json"
      ],
      "execution_count": 7,
      "outputs": [
        {
          "output_type": "stream",
          "text": [
            "--2021-02-13 11:55:13--  https://github.com/facebookresearch/simmc/raw/master/data/simmc_fashion/fashion_teststd_dials_api_calls.json\n",
            "Resolving github.com (github.com)... 140.82.112.4\n",
            "Connecting to github.com (github.com)|140.82.112.4|:443... connected.\n",
            "HTTP request sent, awaiting response... 302 Found\n",
            "Location: https://media.githubusercontent.com/media/facebookresearch/simmc/master/data/simmc_fashion/fashion_teststd_dials_api_calls.json [following]\n",
            "--2021-02-13 11:55:13--  https://media.githubusercontent.com/media/facebookresearch/simmc/master/data/simmc_fashion/fashion_teststd_dials_api_calls.json\n",
            "Resolving media.githubusercontent.com (media.githubusercontent.com)... 185.199.108.133, 185.199.109.133, 185.199.110.133, ...\n",
            "Connecting to media.githubusercontent.com (media.githubusercontent.com)|185.199.108.133|:443... connected.\n",
            "HTTP request sent, awaiting response... 200 OK\n",
            "Length: 374581 (366K) [application/octet-stream]\n",
            "Saving to: ‘fashion_teststd_dials_api_calls.json’\n",
            "\n",
            "fashion_teststd_dia 100%[===================>] 365.80K  --.-KB/s    in 0.007s  \n",
            "\n",
            "2021-02-13 11:55:13 (54.2 MB/s) - ‘fashion_teststd_dials_api_calls.json’ saved [374581/374581]\n",
            "\n"
          ],
          "name": "stdout"
        }
      ]
    },
    {
      "cell_type": "markdown",
      "metadata": {
        "id": "DlmuqBQo-js3"
      },
      "source": [
        "# Imports and Dataset loading"
      ]
    },
    {
      "cell_type": "code",
      "metadata": {
        "id": "tMLBRR25wmyP"
      },
      "source": [
        "import json\n",
        "import warnings\n",
        "import os\n",
        "import pandas as pd\n",
        "import ast\n",
        "import matplotlib.pyplot as plt\n",
        "import seaborn as sns\n",
        "import torch\n",
        "import numpy as np\n",
        "\n",
        "warnings.filterwarnings('ignore')\n"
      ],
      "execution_count": 8,
      "outputs": []
    },
    {
      "cell_type": "code",
      "metadata": {
        "id": "cof6P9yGumLl"
      },
      "source": [
        "with open('fashion_train_dials.json') as json_file:\n",
        "    data_train = json.load(json_file)\n",
        "\n",
        "with open('fashion_dev_dials.json') as json_file:\n",
        "    data_val = json.load(json_file)    \n",
        "\n",
        "with open('fashion_teststd_dials_public.json') as json_file:\n",
        "    data_test = json.load(json_file) \n",
        "\n",
        "with open('fashion_teststd_dials_api_calls.json') as json_file:\n",
        "    data_test_gt = json.load(json_file)       "
      ],
      "execution_count": 9,
      "outputs": []
    },
    {
      "cell_type": "markdown",
      "metadata": {
        "id": "zDzNhPIwNWXd"
      },
      "source": [
        "# Extraction"
      ]
    },
    {
      "cell_type": "code",
      "metadata": {
        "id": "Xs6r7s8Loa8x"
      },
      "source": [
        "attributes = ['embellishment', 'availableSizes', 'price', 'info', 'customerRating', 'pattern', 'color', 'brand', 'size','material','clothingStyle',\r\n",
        "              'clothingCategory', 'necklineStyle','hemLength','skirtStyle','dressStyle','jacketStyle']"
      ],
      "execution_count": 10,
      "outputs": []
    },
    {
      "cell_type": "code",
      "metadata": {
        "id": "ZXxFoVwZw3W3"
      },
      "source": [
        "def extract_info_attributes(round_datum):\n",
        "    \"\"\"Extract information attributes for current round using NLU annotations.\n",
        "    Args:\n",
        "        round_datum: Current round information\n",
        "    Returns:\n",
        "        get_attribute_matches: Information attributes\n",
        "    \"\"\"\n",
        "    \n",
        "    user_annotation = ast.literal_eval(round_datum[\"transcript_annotated\"]) #round_datum[\"system_transcript_annotated\"])\n",
        "    \n",
        "    annotation = user_annotation\n",
        "    \n",
        "    all_intents = [i[\"intent\"] for i in annotation] \n",
        "    \n",
        "    get_attribute_matches = [] # Information attributes\n",
        "    \n",
        "    for index, intent in enumerate(all_intents):\n",
        "        \n",
        "        if any(\n",
        "            ii in intent\n",
        "            for ii in (\"DA:ASK:GET\", \"DA:ASK:CHECK\", \"DA:INFORM:GET\")\n",
        "        ):\n",
        "              # If there is no attribute added, default to info. \n",
        "              if \".\" not in intent:\n",
        "                   get_attribute_matches.append(\"info\")\n",
        "                   continue\n",
        "\n",
        "              attribute = intent.split(\".\")[-1]\n",
        "              if attribute == \"info\":\n",
        "                  new_matches = [\n",
        "                      ii[\"id\"].split(\".\")[-1]\n",
        "                      for ii in annotation[index][\"slots\"]\n",
        "                      if \"INFO\" in ii[\"id\"]\n",
        "                  ]\n",
        "                  if len(new_matches):\n",
        "                          get_attribute_matches.extend(new_matches)\n",
        "                  else:\n",
        "                      get_attribute_matches.append(\"info\")\n",
        "              \n",
        "              elif attribute != \"\":\n",
        "                    get_attribute_matches.append(attribute)\n",
        "\n",
        "    return sorted(set(get_attribute_matches)) \n"
      ],
      "execution_count": 11,
      "outputs": []
    },
    {
      "cell_type": "code",
      "metadata": {
        "id": "a2LuGM-6E321"
      },
      "source": [
        "def verifica(attr):\r\n",
        " attributes = ['embellishment', 'availableSizes', 'price', 'info', 'customerRating', 'pattern', 'color', 'brand', 'size','material','clothingStyle',\r\n",
        "              'clothingCategory', 'necklineStyle','hemLength','skirtStyle','dressStyle','jacketStyle']\r\n",
        " \r\n",
        " for i,a in enumerate(attr):\r\n",
        "    if a not in attributes:\r\n",
        "      attr[i] = \"\"\r\n",
        " \r\n",
        " return attr      "
      ],
      "execution_count": 12,
      "outputs": []
    },
    {
      "cell_type": "code",
      "metadata": {
        "id": "bXir0QMcw-Tt"
      },
      "source": [
        "def extract(data):\n",
        "  task_mapping = {i[\"task_id\"]: i for i in data[\"task_mapping\"]} #creo dizionario con chiave taskid e intero\n",
        "  \n",
        "  dialogs = []                                                            # contenuto di task_mapping\n",
        "  pattern = [] \n",
        "\n",
        "  for d in data['dialogue_data']:\n",
        "    dialog_id = d[\"dialogue_idx\"]\n",
        "    if \"dialogue_task_id\" not in d:\n",
        "        state = task_mapping[1874] #metto un task a caso per chi non ha dialogue task id(<0.1% dei dati)\n",
        "    \n",
        "    else:\n",
        "        state = task_mapping[d[\"dialogue_task_id\"]] #prendo task mapping del taskid del diaalogo\n",
        "    \n",
        "    roundwise_actions = []    \n",
        "    \n",
        "    for round_datum in d[\"dialogue\"]:\n",
        "        turn_idx = round_datum[\"turn_idx\"]\n",
        "        \n",
        "        p = [dialog_id,turn_idx,round_datum['transcript'],'None',[]]\n",
        "\n",
        "        insert_item = {\n",
        "                \"turn_idx\": turn_idx,\n",
        "                \"action\": \"None\",\n",
        "                \"action_supervision\": None\n",
        "            }\n",
        "\n",
        "        keystrokes = round_datum.get(\"raw_assistant_keystrokes\", []) #prendo keystrokes se non c'è lista vuota\n",
        "        \n",
        "        attributes = extract_info_attributes(round_datum)\n",
        "        attributes = verifica(attributes)\n",
        "\n",
        "        if keystrokes:\n",
        "                focus_image = int(keystrokes[0][\"image_id\"]) #prendo focus image\n",
        "                \n",
        "                if focus_image in state[\"memory_images\"]:\n",
        "                    p = [dialog_id,turn_idx,round_datum['transcript'],'SearchMemory',attributes]\n",
        "                    insert_item[\"action\"] = \"SearchMemory\"\n",
        "                    insert_item[\"action_supervision\"] = {\n",
        "                        \"attributes\": attributes,\n",
        "                    }\n",
        "\n",
        "                    \n",
        "                elif focus_image in state[\"database_images\"]:\n",
        "                    p = [dialog_id,turn_idx,round_datum['transcript'],'SearchDatabase',attributes]\n",
        "                    insert_item[\"action\"] = \"SearchDatabase\"\n",
        "                    insert_item[\"action_supervision\"] = {\n",
        "                        \"attributes\": attributes,\n",
        "                    }\n",
        "                #else:\n",
        "                    #\"Undefined action; using None instead\"\n",
        "                    \n",
        "                pattern.append(p)\n",
        "                roundwise_actions.append(insert_item)    \n",
        "        else:\n",
        "            \n",
        "            if len(attributes):\n",
        "                p = [dialog_id,turn_idx,round_datum['transcript'],'SpecifyInfo',attributes]\n",
        "                insert_item[\"action\"] = \"SpecifyInfo\"\n",
        "                insert_item[\"action_supervision\"] = {\n",
        "                        \"attributes\": attributes\n",
        "                    }\n",
        "                \n",
        "            else:\n",
        "                # AddToCart action.\n",
        "                #transcript annotated è stringa, ast.literal_eval la tratta come lista\n",
        "                    for intent_info in ast.literal_eval(     \n",
        "                        round_datum[\"transcript_annotated\"]\n",
        "                    ):\n",
        "                        if \"DA:REQUEST:ADD_TO_CART\" in intent_info[\"intent\"]:\n",
        "                            p = [dialog_id,turn_idx,round_datum['transcript'],'AddToCart',[]] \n",
        "                            insert_item[\"action\"] = \"AddToCart\"\n",
        "                            insert_item[\"action_supervision\"] = None   \n",
        "                               \n",
        "            roundwise_actions.append(insert_item)\n",
        "            pattern.append(p)    \n",
        "            \n",
        "    dialogs.append(\n",
        "            {\n",
        "                \"dialog_id\": dialog_id,\n",
        "                \"actions\": roundwise_actions,\n",
        "            }\n",
        "        )\n",
        "    \n",
        "  df = pd.DataFrame(pattern)\n",
        "  df.columns = ['DialogID','TurnID','Text User','Action','Attributes']\n",
        "\n",
        "  return df, dialogs"
      ],
      "execution_count": 13,
      "outputs": []
    },
    {
      "cell_type": "code",
      "metadata": {
        "id": "gdEerhPBWJmu"
      },
      "source": [
        "def extract_test(data):\n",
        "  pattern = []\n",
        "  for d in data['dialogue_data']:\n",
        "    dialog_id = d[\"dialogue_idx\"]\n",
        "    \n",
        "    for round_datum in d[\"dialogue\"]:\n",
        "        turn_idx = round_datum[\"turn_idx\"]\n",
        "\n",
        "        pattern.append((dialog_id,turn_idx,round_datum[\"transcript\"]))\n",
        "  \n",
        "  \n",
        "  df = pd.DataFrame(pattern)\n",
        "  df.columns = ['DialogID','TurnID','Text User']\n",
        "\n",
        "  return df    \n",
        "\n"
      ],
      "execution_count": 14,
      "outputs": []
    },
    {
      "cell_type": "code",
      "metadata": {
        "id": "9Nwzn1yXwsBy"
      },
      "source": [
        "df_train,dialogs_train = extract(data_train)\n",
        "df_val,dialogs_val = extract(data_val)\n",
        "df_test = extract_test(data_test)"
      ],
      "execution_count": 15,
      "outputs": []
    },
    {
      "cell_type": "markdown",
      "metadata": {
        "id": "3OfY7QH8N6Zc"
      },
      "source": [
        "# Processing"
      ]
    },
    {
      "cell_type": "code",
      "metadata": {
        "id": "qPSIRIyoFNKJ"
      },
      "source": [
        "# compute the vocabulary and its size\r\n",
        "import re\r\n",
        "words = set()\r\n",
        "for i in range(df_train.shape[0]):\r\n",
        "    words = words.union(set(re.findall(r'\\w+',df_train.iloc[i]['Text User'])))\r\n",
        "\r\n",
        "vocab = dict(zip(list(words),range(1,len(words)+1)))\r\n",
        "\r\n",
        "vocab['[UNK]'] = len(words)+1\r\n",
        "vocab['[CLS]'] = len(words)+1\r\n",
        "vocab['[SEP]'] = len(words)+1\r\n",
        "vocab['[MASK]'] = len(words)+1\r\n",
        "vocab['[PAD]'] = 0\r\n",
        "\r\n",
        "with open('vocab.txt', 'w') as file:\r\n",
        "     file.writelines([str(x)+'\\n' for x in list(vocab.keys())]) "
      ],
      "execution_count": 16,
      "outputs": []
    },
    {
      "cell_type": "code",
      "metadata": {
        "id": "F0iMFTgVxWz0"
      },
      "source": [
        "from sklearn.preprocessing import MultiLabelBinarizer\n",
        "\n",
        "\n",
        "mlb = MultiLabelBinarizer()\n",
        "df_train['Attributes'] = list(mlb.fit_transform(df_train['Attributes']))\n",
        "c=list(mlb.classes_) \n",
        "mlb = MultiLabelBinarizer(classes=c) \n",
        "df_val['Attributes'] = list(mlb.fit_transform(df_val['Attributes']))\n",
        "d = list(mlb.classes_)"
      ],
      "execution_count": 17,
      "outputs": []
    },
    {
      "cell_type": "code",
      "metadata": {
        "id": "2ywM7cBFxrMB"
      },
      "source": [
        "def frequenza(df):\n",
        "  attr_freq = [0] * len(df['Attributes'][0])\n",
        "  tot = 0\n",
        "  for attr in df['Attributes']:\n",
        "     i=0\n",
        "     for a in attr:\n",
        "        if (a==1):\n",
        "          attr_freq[i] += 1\n",
        "          tot+=1\n",
        "        i+=1    \n",
        "           \n",
        "  return attr_freq, tot"
      ],
      "execution_count": 18,
      "outputs": []
    },
    {
      "cell_type": "code",
      "metadata": {
        "id": "V6-SinpL2nN-"
      },
      "source": [
        "freq_train,tot_freq_train = frequenza(df_train)\n",
        "freq_val,tot_freq_val = frequenza(df_val)"
      ],
      "execution_count": 19,
      "outputs": []
    },
    {
      "cell_type": "code",
      "metadata": {
        "id": "o8M7YhsIV6ej"
      },
      "source": [
        "freq_class = [freq/tot_freq_train for freq in freq_train]\n",
        "bce_weights_train = torch.tensor([(1-freq)/freq for freq in freq_class])"
      ],
      "execution_count": 20,
      "outputs": []
    },
    {
      "cell_type": "code",
      "metadata": {
        "id": "TA3Ey_s5xxvk"
      },
      "source": [
        "def extract_humans(df):\n",
        "  humans = list()\n",
        "  for i in range(df.shape[0]):      \n",
        "    human = df.iloc[i]['Text User']\n",
        "    humans.append(human.lower())\n",
        "  \n",
        "  return humans  "
      ],
      "execution_count": 21,
      "outputs": []
    },
    {
      "cell_type": "code",
      "metadata": {
        "id": "7q9uYiyN38oA"
      },
      "source": [
        "humans_train = extract_humans(df_train)\n",
        "humans_val = extract_humans(df_val)\n",
        "humans_test = extract_humans(df_test)"
      ],
      "execution_count": 22,
      "outputs": []
    },
    {
      "cell_type": "markdown",
      "metadata": {
        "id": "6LubmMNGOHRM"
      },
      "source": [
        "# Training"
      ]
    },
    {
      "cell_type": "code",
      "metadata": {
        "id": "gKE-kjUqzxOp"
      },
      "source": [
        "DEVICE = torch.device('cuda' if torch.cuda.is_available() else 'cpu')"
      ],
      "execution_count": 23,
      "outputs": []
    },
    {
      "cell_type": "code",
      "metadata": {
        "id": "qfqVHNXLxzUw"
      },
      "source": [
        "from transformers import BertConfig, BertModel, BertTokenizer\n",
        "\n",
        "tokenizer = BertTokenizer(vocab_file='vocab.txt')\n",
        "\n",
        "def extract_encodeds(humans,df):\n",
        "\n",
        "  decodeds = list()\n",
        "  encodeds = list()\n",
        "\n",
        "  for i in range(df.shape[0]):\n",
        "    \n",
        "    inputs_hum = tokenizer.tokenize(humans[i])\n",
        "    encoded_sequence = tokenizer.encode(inputs_hum)\n",
        "    decoded_sequence = tokenizer.decode(encoded_sequence)\n",
        "    \n",
        "    inputs = tokenizer(humans[i])\n",
        "    encoded_sequence = inputs[\"input_ids\"]\n",
        "    \n",
        "    decodeds.append(decoded_sequence)\n",
        "    encodeds.append(encoded_sequence)\n",
        "  \n",
        "  return encodeds  "
      ],
      "execution_count": 24,
      "outputs": []
    },
    {
      "cell_type": "code",
      "metadata": {
        "id": "t-cwag6R5vU4"
      },
      "source": [
        "inputs_ids_train = extract_encodeds(humans_train,df_train)\n",
        "inputs_ids_val = extract_encodeds(humans_val,df_val)\n",
        "inputs_ids_test = extract_encodeds(humans_test,df_test)"
      ],
      "execution_count": 25,
      "outputs": []
    },
    {
      "cell_type": "code",
      "metadata": {
        "id": "bGx1sRBh6U_I"
      },
      "source": [
        "def max_len(input_ids):\n",
        "  max_len = 0\n",
        "\n",
        "  for l in input_ids:\n",
        "    if len(l) > max_len:\n",
        "        max_len = len(l)\n",
        "  \n",
        "  return max_len      "
      ],
      "execution_count": 26,
      "outputs": []
    },
    {
      "cell_type": "code",
      "metadata": {
        "id": "f2sGoYVE6mFU"
      },
      "source": [
        "max_len_train = max_len(inputs_ids_train)\n",
        "max_len_val = max_len(inputs_ids_val)\n",
        "max_len_test = max_len(inputs_ids_test)"
      ],
      "execution_count": 27,
      "outputs": []
    },
    {
      "cell_type": "code",
      "metadata": {
        "id": "8svuR-lux9lR"
      },
      "source": [
        "def attention_masks_N_iid_padded(input_ids,max_len):\n",
        "  attention_masks = list()\n",
        "  iid_padded = list()\n",
        "  tok_types_padded = list()\n",
        "\n",
        "  for i in range(len(input_ids)):\n",
        "    # produce the mask\n",
        "    mask = [1]*len(input_ids[i]) + [0]*(max_len-len(input_ids[i]))\n",
        "    attention_masks.append(mask)\n",
        "    # pad encodeds and type current line\n",
        "    # PAD = 0, since vocab starts from 1\n",
        "    iid = input_ids[i] + [0]*(max_len-len(input_ids[i]))\n",
        "    iid_padded.append(iid)\n",
        "    # state to which sentence belong\n",
        "    # and add PAD=0 at the end\n",
        "\n",
        "  return attention_masks, iid_padded"
      ],
      "execution_count": 28,
      "outputs": []
    },
    {
      "cell_type": "code",
      "metadata": {
        "id": "L35LQ7k171RP"
      },
      "source": [
        "attention_masks_train, iid_padded_train = attention_masks_N_iid_padded(inputs_ids_train,max_len_train)\n",
        "attention_masks_val, iid_padded_val = attention_masks_N_iid_padded(inputs_ids_val,max_len_val)\n",
        "attention_masks_test, iid_padded_test = attention_masks_N_iid_padded(inputs_ids_test,max_len_test)"
      ],
      "execution_count": 29,
      "outputs": []
    },
    {
      "cell_type": "code",
      "metadata": {
        "id": "E7TA6f84x_J8"
      },
      "source": [
        "df_train['Action'] = df_train['Action'].map({'SearchDatabase': 0, 'SearchMemory': 1,'SpecifyInfo' : 2,'AddToCart':3,'None':4})\n",
        "\n",
        "df_val['Action'] = df_val['Action'].map({'SearchDatabase': 0, 'SearchMemory': 1,'SpecifyInfo' : 2,'AddToCart':3,'None':4})\n",
        "\n"
      ],
      "execution_count": 30,
      "outputs": []
    },
    {
      "cell_type": "code",
      "metadata": {
        "id": "AZ0nHAnYyCe_"
      },
      "source": [
        "attr_train = df_train['Attributes']\n",
        "\n",
        "attr_val = df_val['Attributes']"
      ],
      "execution_count": 31,
      "outputs": []
    },
    {
      "cell_type": "code",
      "metadata": {
        "id": "q7aJHh2DyTM4"
      },
      "source": [
        "actions_train = df_train['Action']\n",
        "\n",
        "actions_val = df_val['Action']"
      ],
      "execution_count": 32,
      "outputs": []
    },
    {
      "cell_type": "code",
      "metadata": {
        "id": "EplDm8QHn064"
      },
      "source": [
        "dID_test = df_test['DialogID']\n",
        "turn_test = df_test['TurnID']"
      ],
      "execution_count": 33,
      "outputs": []
    },
    {
      "cell_type": "code",
      "metadata": {
        "id": "yuzLVsj9yGTS"
      },
      "source": [
        "import torch.nn as nn\n",
        "from torch.utils.data import Dataset\n",
        "import torch.utils.data\n",
        "import torch.nn.functional as F\n",
        "\n",
        "class Dataset(Dataset):\n",
        "    \n",
        "    def __init__(self, input_ids, attention_masks, attr, actions):\n",
        "        self.input_ids = input_ids\n",
        "        self.attention_masks = attention_masks\n",
        "        self.attributes = attr\n",
        "        self.actions = actions\n",
        "        self.dataset_size = len(self.input_ids)\n",
        "        \n",
        "        \n",
        "    def __getitem__(self,i):\n",
        "        ids = torch.tensor(self.input_ids[i],dtype=torch.long)\n",
        "        masks = torch.tensor(self.attention_masks[i],dtype=torch.long)\n",
        "        attributes = torch.tensor(self.attributes[i],dtype=torch.float) \n",
        "        actions = torch.tensor(self.actions[i],dtype=torch.int64) \n",
        "            \n",
        "\n",
        "        return ids, masks, attributes, actions\n",
        "        \n",
        "    def __len__(self):\n",
        "        return self.dataset_size"
      ],
      "execution_count": 34,
      "outputs": []
    },
    {
      "cell_type": "code",
      "metadata": {
        "id": "N6_23fQrhLLf"
      },
      "source": [
        "class Dataset_test(Dataset):\n",
        "    \n",
        "    def __init__(self, input_ids, attention_masks,d_ID,turn):\n",
        "        self.input_ids = input_ids\n",
        "        self.attention_masks = attention_masks\n",
        "        self.d_ID = d_ID\n",
        "        self.turn = turn\n",
        "        self.dataset_size = len(self.input_ids)\n",
        "        \n",
        "        \n",
        "    def __getitem__(self,i):\n",
        "        ids = torch.tensor(self.input_ids[i],dtype=torch.long)\n",
        "        masks = torch.tensor(self.attention_masks[i],dtype=torch.long)\n",
        "        ID = torch.tensor(self.d_ID[i],dtype=torch.int)\n",
        "        turno = torch.tensor(self.turn[i],dtype=torch.int)\n",
        "\n",
        "        return ids, masks, ID, turno\n",
        "        \n",
        "    def __len__(self):\n",
        "        return self.dataset_size"
      ],
      "execution_count": 35,
      "outputs": []
    },
    {
      "cell_type": "code",
      "metadata": {
        "id": "_WNIu5Y3yKOt"
      },
      "source": [
        "train_loader = torch.utils.data.DataLoader(Dataset(iid_padded_train, \n",
        "                                                   attention_masks_train,\n",
        "                                                   attr_train,\n",
        "                                                   actions_train),\n",
        "                                           batch_size=8,\n",
        "                                           shuffle=True)"
      ],
      "execution_count": 36,
      "outputs": []
    },
    {
      "cell_type": "code",
      "metadata": {
        "id": "apGUN_4J9HL9"
      },
      "source": [
        "val_loader = torch.utils.data.DataLoader(Dataset(iid_padded_val, \n",
        "                                                   attention_masks_val,\n",
        "                                                   attr_val,\n",
        "                                                   actions_val),\n",
        "                                           batch_size=8,\n",
        "                                           shuffle=True)"
      ],
      "execution_count": 37,
      "outputs": []
    },
    {
      "cell_type": "code",
      "metadata": {
        "id": "r6HhhJyQaOgK"
      },
      "source": [
        "test_loader = torch.utils.data.DataLoader(Dataset_test(iid_padded_test, \n",
        "                                                   attention_masks_test,\n",
        "                                                   dID_test,\n",
        "                                                   turn_test),\n",
        "                                           batch_size=1,\n",
        "                                           shuffle=True)"
      ],
      "execution_count": 38,
      "outputs": []
    },
    {
      "cell_type": "code",
      "metadata": {
        "id": "DowDnG-MyM74"
      },
      "source": [
        "from transformers import BertConfig, BertModel, AdamW, BertForSequenceClassification\n",
        "\n",
        "\n",
        "class MyBERTModel(nn.Module):\n",
        "    def __init__(self):\n",
        "          super(MyBERTModel, self).__init__()\n",
        "          config = BertConfig(vocab_size=len(vocab))\n",
        "          self.bert = BertModel(config=config)\n",
        "          self.dropout = torch.nn.Dropout(0.3)\n",
        "          #self.linear1 = torch.nn.Linear(768, 768)\n",
        "          ### New layers:\n",
        "          self.classifier1 = torch.nn.Linear(768, 5 ) ## we have 5 class\n",
        "          self.classifier2 = torch.nn.Linear(768, 18) ## we have 34 labels in the output \n",
        "          \n",
        "            \n",
        "    def forward(self, ids, mask):\n",
        "          sequence_output, pooled_output = self.bert(\n",
        "               ids, \n",
        "               attention_mask = mask,\n",
        "               return_dict=False)\n",
        "         \n",
        "            \n",
        "         \n",
        "          linear = self.dropout(pooled_output)\n",
        "           \n",
        "          classifier1_output = self.classifier1(linear)\n",
        "          \n",
        "          classifier2_output = self.classifier2(linear)\n",
        "          \n",
        "          return classifier1_output,classifier2_output"
      ],
      "execution_count": 39,
      "outputs": []
    },
    {
      "cell_type": "code",
      "metadata": {
        "id": "6ZKxwbvPCU9t"
      },
      "source": [
        "DEVICE = 'cuda'\r\n",
        "model = MyBERTModel()\r\n",
        "model = model.to(DEVICE)\r\n",
        "LOG_FREQUENCY = 10\r\n",
        "NUM_EPOCHS = 10"
      ],
      "execution_count": 40,
      "outputs": []
    },
    {
      "cell_type": "code",
      "metadata": {
        "id": "8KFattx9yd2z",
        "colab": {
          "base_uri": "https://localhost:8080/"
        },
        "outputId": "134586ab-5d4e-4b82-9f46-8b63270fcd1f"
      },
      "source": [
        "from pytorch_pretrained_bert.optimization import BertAdam\n",
        "from transformers import Adafactor\n",
        "from torch_optimizer import Lamb\n",
        "from transformers import get_linear_schedule_with_warmup\n",
        "from transformers import AdamW\n",
        "import copy\n",
        "DEVICE = 'cuda'\n",
        "\n",
        "criterion1 = torch.nn.CrossEntropyLoss().to(DEVICE)\n",
        "criterion2 = torch.nn.BCEWithLogitsLoss(pos_weight=bce_weights_train).to(DEVICE)#\n",
        "\n",
        "#optimizer = torch.optim.Adam(model.parameters(),lr=2e-5)\n",
        "optimizer = AdamW(model.parameters(), lr=1e-5, weight_decay= 0.01, correct_bias=True) #1e-5\n",
        "\n",
        "#scheduler = torch.optim.lr_scheduler.MultiStepLR(optimizer, milestones=[5,8], gamma = 0.2)\n",
        "scheduler = get_linear_schedule_with_warmup(optimizer, num_warmup_steps=0, num_training_steps=len(train_loader) * NUM_EPOCHS)\n",
        "\n",
        "losses_train = {'total': [], 'actions': [], 'attributes': []}\n",
        "losses_val = {'total': [], 'actions': [], 'attributes': []}\n",
        "\n",
        "best_loss = 100\n",
        "\n",
        "for epoch in range(NUM_EPOCHS):\n",
        "  print('Starting epoch {}/{}'.format(epoch+1, NUM_EPOCHS))\n",
        "  curr_epoch_losses = {'total': [], 'actions': [], 'attributes': []}\n",
        "\n",
        "  model.train()\n",
        "\n",
        "  current_step = 0\n",
        "  \n",
        "  for data in train_loader:\n",
        "\n",
        "    in_ids = data[0].to(DEVICE) \n",
        "    att_mask = data[1].to(DEVICE) \n",
        "    attributes = data[2].to(DEVICE) \n",
        "    actions = data[3].to(DEVICE) \n",
        "     \n",
        "    output1,output2 = model(in_ids,\n",
        "                            att_mask)\n",
        "              \n",
        "    loss1 = criterion1(output1, actions)\n",
        "    loss2 = criterion2(output2, attributes)\n",
        "   \n",
        "    \n",
        "    \n",
        "    total_loss = (loss1+loss2) / 2\n",
        "\n",
        "    optimizer.zero_grad()\n",
        "    total_loss.backward()\n",
        "    optimizer.step() \n",
        "    \n",
        "    curr_epoch_losses['total'].append(total_loss.item())\n",
        "    curr_epoch_losses['actions'].append(loss1.item())\n",
        "    curr_epoch_losses['attributes'].append(loss2.item())\n",
        "    \n",
        "    if current_step % (10*LOG_FREQUENCY) == 0:\n",
        "      print('Step {}, Total Loss {}'.format(current_step, total_loss.item()))\n",
        "      print('Step {}, Action Loss {}'.format(current_step, loss1.item()))\n",
        "      print('Step {}, Attributes Loss {}\\n\\n'.format(current_step, loss2.item()))      \n",
        "    \n",
        "    current_step += 1\n",
        "\n",
        "  #scheduler.step()    \n",
        "  losses_train['total'].append(np.mean(curr_epoch_losses['total']))\n",
        "  losses_train['actions'].append(np.mean(curr_epoch_losses['actions']))\n",
        "  losses_train['attributes'].append(np.mean(curr_epoch_losses['attributes']))\n",
        "\n",
        "  model.eval()\n",
        "  curr_epoch_losses = {'total': [], 'actions': [], 'attributes': []}\n",
        "  for data in val_loader:\n",
        "\n",
        "    in_ids = data[0].to(DEVICE) \n",
        "    att_mask = data[1].to(DEVICE) \n",
        "    attributes = data[2].to(DEVICE) \n",
        "    actions = data[3].to(DEVICE) \n",
        "     \n",
        "    output1,output2 = model(in_ids,\n",
        "                            att_mask)\n",
        "              \n",
        "    loss1 = criterion1(output1, actions)\n",
        "    loss2 = criterion2(output2, attributes)\n",
        "\n",
        "    total_loss = (loss1+loss2) / 2\n",
        "\n",
        "    optimizer.zero_grad()\n",
        "    total_loss.backward()\n",
        "    optimizer.step() \n",
        "    \n",
        "    curr_epoch_losses['total'].append(total_loss.item())\n",
        "    curr_epoch_losses['actions'].append(loss1.item())\n",
        "    curr_epoch_losses['attributes'].append(loss2.item())\n",
        "    \n",
        "\n",
        "  losses_val['total'].append(np.mean(curr_epoch_losses['total']))\n",
        "  losses_val['actions'].append(np.mean(curr_epoch_losses['actions']))\n",
        "  losses_val['attributes'].append(np.mean(curr_epoch_losses['attributes'])) \n",
        "\n",
        "  if (losses_val['total'][-1] < best_loss):\n",
        "    best_loss = losses_val['total'][-1]\n",
        "    bestmodel = copy.deepcopy(model)\n",
        "  \n",
        "  scheduler.step()  "
      ],
      "execution_count": null,
      "outputs": [
        {
          "output_type": "stream",
          "text": [
            "Starting epoch 1/10\n",
            "Step 0, Total Loss 1.3411322832107544\n",
            "Step 0, Action Loss 1.834660291671753\n",
            "Step 0, Attributes Loss 0.8476042151451111\n",
            "\n",
            "\n"
          ],
          "name": "stdout"
        }
      ]
    },
    {
      "cell_type": "code",
      "metadata": {
        "id": "xascwM470Akt"
      },
      "source": [
        "torch.save(bestmodel.state_dict(), 'model_v20210207.pt')"
      ],
      "execution_count": null,
      "outputs": []
    },
    {
      "cell_type": "code",
      "metadata": {
        "id": "icOnl-DTtqfZ"
      },
      "source": [
        "#epoch_count = range(1, NUM_EPOCHS + 1)\r\n",
        "epoch_count = np.arange(1, NUM_EPOCHS+1)\r\n",
        "plt.figure(figsize=(12,7))\r\n",
        "plt.title(\"Training loss\")\r\n",
        "plt.xlabel(\"Epoch\")\r\n",
        "plt.ylabel(\"Loss\")\r\n",
        "plt.plot(epoch_count,losses_train['total'],color='red')\r\n",
        "plt.plot(epoch_count,losses_train['actions'],color='blue')\r\n",
        "plt.plot(epoch_count,losses_train['attributes'],color='green')\r\n",
        "plt.legend(['Total Loss', 'Actions Loss','Attributes Loss'])\r\n",
        "plt.show()\r\n"
      ],
      "execution_count": null,
      "outputs": []
    },
    {
      "cell_type": "code",
      "metadata": {
        "id": "Fb7cbSMDZLZj"
      },
      "source": [
        "epoch_count = np.arange(1, NUM_EPOCHS+1)\r\n",
        "plt.figure(figsize=(12,7))\r\n",
        "plt.title(\"Val loss\")\r\n",
        "plt.xlabel(\"Epoch\")\r\n",
        "plt.ylabel(\"Loss\")\r\n",
        "plt.plot(epoch_count,losses_val['total'],color='red')\r\n",
        "plt.plot(epoch_count,losses_val['actions'],color='blue')\r\n",
        "plt.plot(epoch_count,losses_val['attributes'],color='green')\r\n",
        "plt.legend(['Total Loss', 'Actions Loss','Attributes Loss'])\r\n",
        "plt.show()\r\n"
      ],
      "execution_count": null,
      "outputs": []
    },
    {
      "cell_type": "code",
      "metadata": {
        "id": "L5KzxJ_NCBq6"
      },
      "source": [
        "def ordina_attr(attributes_prediction):\r\n",
        "\r\n",
        "  attributes = ['','availableSizes', 'brand', 'clothingCategory', 'clothingStyle', 'color', 'customerRating', 'dressStyle', 'embellishment', 'hemLength', 'info', 'jacketStyle', 'material', 'necklineStyle', 'pattern', 'price', 'size', 'skirtStyle']\r\n",
        "  #attributes = ['ageRange', 'amountInStock', 'availableSizes', 'brand', 'clothingCategory', 'clothingStyle', 'color', 'customerRating', 'dressStyle', 'embellishment', 'forGender', 'forOccasion', 'hasPart', 'hemLength', 'hemStyle', 'info', 'jacketStyle', 'madeIn', 'material', 'necklineStyle', 'pattern', 'price', 'sequential', 'size', 'skirtLength', 'skirtStyle', 'sleeveLength', 'sleeveStyle', 'soldBy', 'sweaterStyle', 'waistStyle', 'warmthRating', 'waterResistance']\r\n",
        "  a = []\r\n",
        "  for i,attr in enumerate(attributes_prediction):\r\n",
        "     if attr == 1:\r\n",
        "       a.append(attributes[i])\r\n",
        "\r\n",
        "  return a\r\n"
      ],
      "execution_count": null,
      "outputs": []
    },
    {
      "cell_type": "code",
      "metadata": {
        "id": "r4d4_vepCRHE"
      },
      "source": [
        "def ordina_action(action_prediction):\r\n",
        "\r\n",
        "  actions=['SearchDatabase', 'SearchMemory','SpecifyInfo','AddToCart','None']\r\n",
        "\r\n",
        "  a = actions[action_prediction]\r\n",
        "\r\n",
        "  return a"
      ],
      "execution_count": null,
      "outputs": []
    },
    {
      "cell_type": "code",
      "metadata": {
        "id": "cmDWPvwASz1W"
      },
      "source": [
        "# Test\r\n",
        "bestmodel = bestmodel.to(DEVICE)\r\n",
        "bestmodel.eval()\r\n",
        "\r\n",
        "actions_preds_dict = []\r\n",
        "outputs = {}\r\n",
        "actions=['SearchDatabase', 'SearchMemory','SpecifyInfo','AddToCart','None']\r\n",
        "\r\n",
        "for data in test_loader:\r\n",
        "    \r\n",
        "    in_ids = data[0].to(DEVICE)\r\n",
        "    att_mask = data[1].to(DEVICE)\r\n",
        "    d_id = data[2].to(DEVICE)\r\n",
        "    turn = data[3].to(DEVICE)\r\n",
        "    \r\n",
        "    output1, output2 = bestmodel(in_ids, att_mask)\r\n",
        "    \r\n",
        "    output1 = torch.nn.functional.softmax(output1,dim = 1)\r\n",
        "\r\n",
        "    _,preds_action = torch.max(output1.data, dim=1)  \r\n",
        "    \r\n",
        "    preds_attributes = torch.sigmoid(output2)   # torch.Size([N, C]) e.g. tensor([[0., 0.5, 0.]])\r\n",
        "    \r\n",
        "    preds_attributes[preds_attributes >= 0.5] = 1\r\n",
        "    preds_attributes[preds_attributes < 0.5] = 0\r\n",
        "    \r\n",
        "    actions_predictions = preds_action[0].item()\r\n",
        "    actions_predictions = ordina_action(actions_predictions)\r\n",
        "    \r\n",
        "    attributes_predictions = {}\r\n",
        "    attributes_predictions['attributes'] = ordina_attr(preds_attributes[0])\r\n",
        "    \r\n",
        "    action_log_prob = {}\r\n",
        "\r\n",
        "    for i, prob in enumerate(output1.data[0]):\r\n",
        "                action_log_prob[actions[i]] = torch.log(prob).item()\r\n",
        "\r\n",
        "    actions_preds_dict.append( \r\n",
        "                  {\r\n",
        "                    \"dialog_id\": d_id[0].item(),\r\n",
        "                    \"predictions\": [\r\n",
        "                        {\r\n",
        "                            \"action\": actions_predictions,\r\n",
        "                            \"action_log_prob\": action_log_prob,\r\n",
        "                            \"attributes\": attributes_predictions,\r\n",
        "                            \"turn_id\": turn[0].item()\r\n",
        "                        }\r\n",
        "                    ]\r\n",
        "                }\r\n",
        "            )      "
      ],
      "execution_count": null,
      "outputs": []
    },
    {
      "cell_type": "code",
      "metadata": {
        "id": "laalaUEpewTZ"
      },
      "source": [
        "IGNORE_ATTRIBUTES = [\r\n",
        "    \"focus\"  \r\n",
        "]\r\n",
        "\r\n",
        "def evaluate_action_prediction(\r\n",
        "    gt_actions,\r\n",
        "    model_actions,\r\n",
        "    single_round_eval=False,\r\n",
        "    compute_std_err=False,\r\n",
        "    record_instance_results=None,\r\n",
        "):\r\n",
        "    \"\"\"Evaluates action prediction using the raw data and model predictions.\r\n",
        "    Args:\r\n",
        "        gt_actions: Ground truth actions + action attributes\r\n",
        "        model_actions: Actions + attributes predicted by the model\r\n",
        "        single_round_eval: Evaluate only for the last turn\r\n",
        "        compute_std_err: Computes standard error for the metrics\r\n",
        "        record_instance_results: Record the result per instance\r\n",
        "    \"\"\"\r\n",
        "    gt_actions_pool = {ii[\"dialog_id\"]: ii for ii in gt_actions}\r\n",
        "    matches = {\"action\": [], \"attributes\": [], \"perplexity\": []}\r\n",
        "    confusion_dict = collections.defaultdict(list)\r\n",
        "    for model_datum in model_actions:\r\n",
        "        dialog_id = model_datum[\"dialog_id\"]\r\n",
        "        num_gt_rounds = len(gt_actions_pool[dialog_id][\"actions\"])\r\n",
        "        for round_datum in model_datum[\"predictions\"]:\r\n",
        "            round_id = round_datum[\"turn_id\"]\r\n",
        "            # Skip if single_round_eval and this is not the last round.\r\n",
        "            if single_round_eval and round_id != num_gt_rounds - 1:\r\n",
        "                continue\r\n",
        "\r\n",
        "            gt_datum = gt_actions_pool[dialog_id][\"actions\"][round_id]\r\n",
        "            action_match = gt_datum[\"action\"] == round_datum[\"action\"]\r\n",
        "            # Record matches and confusion.\r\n",
        "            matches[\"action\"].append(action_match)\r\n",
        "            matches[\"perplexity\"].append(\r\n",
        "                round_datum[\"action_log_prob\"][gt_datum[\"action\"]]\r\n",
        "            )\r\n",
        "            confusion_dict[gt_datum[\"action\"]].append(round_datum[\"action\"])\r\n",
        "\r\n",
        "            # Add the result to datum and save it back.\r\n",
        "            if record_instance_results:\r\n",
        "                round_datum[\"action_result\"] = action_match\r\n",
        "                round_datum[\"gt_action\"] = gt_datum[\"action\"]\r\n",
        "\r\n",
        "            # Get supervision for action attributes.\r\n",
        "            supervision = gt_datum[\"action_supervision\"]\r\n",
        "            if supervision is not None and \"args\" in supervision:\r\n",
        "                supervision = supervision[\"args\"]\r\n",
        "            if supervision is None:\r\n",
        "                continue\r\n",
        "            # Case 1: Action mismatch -- record False for all attributes.\r\n",
        "            if not action_match:\r\n",
        "                for key in supervision.keys():\r\n",
        "                    if key in IGNORE_ATTRIBUTES:\r\n",
        "                        continue\r\n",
        "                    matches[\"attributes\"].append(False)\r\n",
        "            # Case 2: Action matches -- use model predictions for attributes.\r\n",
        "            else:\r\n",
        "                for key in supervision.keys():\r\n",
        "                    if key in IGNORE_ATTRIBUTES:\r\n",
        "                        continue\r\n",
        "                    gt_key_vals = supervision[key]\r\n",
        "                    model_key_vals = round_datum[\"attributes\"][key]\r\n",
        "                    if not len(gt_key_vals):\r\n",
        "                        continue\r\n",
        "                    # For fashion, this is a list -- multi label prediction.\r\n",
        "                    if isinstance(gt_key_vals, list):\r\n",
        "                        assert isinstance(\r\n",
        "                            model_key_vals, list\r\n",
        "                        ), \"Model should also predict a list for attributes\"\r\n",
        "                        recall = np.mean([(ii in model_key_vals) for ii in gt_key_vals])\r\n",
        "                        if len(model_key_vals):\r\n",
        "                            precision = np.mean(\r\n",
        "                               [(ii in gt_key_vals) for ii in model_key_vals]\r\n",
        "                            )\r\n",
        "                        else:\r\n",
        "                            precision = 0.0\r\n",
        "                        f1_score = (2 * recall * precision) / (\r\n",
        "                            recall + precision + 1e-5\r\n",
        "                        )\r\n",
        "                        matches[\"attributes\"].append(f1_score)\r\n",
        "                    else:\r\n",
        "                        # For furniture, this is a string -- single label prediction.\r\n",
        "                        matches[\"attributes\"].append(gt_key_vals == model_key_vals)\r\n",
        "\r\n",
        "    print(\"#Instances evaluated API: {}\".format(len(matches[\"action\"])))\r\n",
        "    # Record and save per instance results.\r\n",
        "    if record_instance_results:\r\n",
        "        print(\"Saving per instance result: {}\".format(record_instance_results))\r\n",
        "        with open(record_instance_results, \"w\") as file_id:\r\n",
        "            json.dump(model_actions, file_id)\r\n",
        "\r\n",
        "    # Compute the confusion matrix.\r\n",
        "    all_actions = sorted(\r\n",
        "        set(confusion_dict.keys()).union(\r\n",
        "            {jj for ii in confusion_dict.values() for jj in ii}\r\n",
        "        )\r\n",
        "    )\r\n",
        "    matrix = np.zeros((len(all_actions), len(all_actions)))\r\n",
        "    for index, action in enumerate(all_actions):\r\n",
        "        labels, counts = np.unique(confusion_dict[action], return_counts=True)\r\n",
        "        for label, count in zip(labels, counts):\r\n",
        "            matrix[all_actions.index(label), index] += count\r\n",
        "\r\n",
        "    metrics = {\r\n",
        "        \"action_accuracy\": np.mean(matches[\"action\"]),\r\n",
        "        \"action_perplexity\": np.exp(-1 * np.mean(matches[\"perplexity\"])),\r\n",
        "        \"attribute_accuracy\": np.mean(matches[\"attributes\"]),\r\n",
        "        \"confusion_matrix\": matrix,\r\n",
        "    }\r\n",
        "    if compute_std_err:\r\n",
        "        metrics_std_err = {\r\n",
        "            \"action_accuracy\": (\r\n",
        "                np.std(matches[\"action\"]) / np.sqrt(len(matches[\"action\"]))\r\n",
        "            ),\r\n",
        "            \"action_perplexity\": (\r\n",
        "                (\r\n",
        "                    np.exp(-1 * np.std(matches[\"perplexity\"]))\r\n",
        "                    / np.sqrt(len(matches[\"perplexity\"]))\r\n",
        "                )\r\n",
        "            ),\r\n",
        "            \"attribute_accuracy\": (\r\n",
        "                np.std(matches[\"attributes\"]) / np.sqrt(len(matches[\"attributes\"]))\r\n",
        "            ),\r\n",
        "        }\r\n",
        "        return metrics, metrics_std_err\r\n",
        "    else:\r\n",
        "        return metrics\r\n"
      ],
      "execution_count": null,
      "outputs": []
    },
    {
      "cell_type": "markdown",
      "metadata": {
        "id": "mg9d5GfKOtd9"
      },
      "source": [
        "# Metrics"
      ]
    },
    {
      "cell_type": "code",
      "metadata": {
        "id": "JMoiyTEat0GX"
      },
      "source": [
        "outputs = actions_preds_dict"
      ],
      "execution_count": null,
      "outputs": []
    },
    {
      "cell_type": "code",
      "metadata": {
        "id": "OUkRRxW4EUFc"
      },
      "source": [
        "import collections\r\n",
        "metrica = evaluate_action_prediction(data_test_gt,outputs)"
      ],
      "execution_count": null,
      "outputs": []
    },
    {
      "cell_type": "code",
      "metadata": {
        "id": "rtTKvGyUKHcE"
      },
      "source": [
        "losses_train['actions']"
      ],
      "execution_count": null,
      "outputs": []
    },
    {
      "cell_type": "code",
      "metadata": {
        "id": "h1LCYJYFlVUO"
      },
      "source": [
        "losses_train['attributes']"
      ],
      "execution_count": null,
      "outputs": []
    },
    {
      "cell_type": "code",
      "metadata": {
        "id": "_CDLopUWKPWU"
      },
      "source": [
        "losses_train['total']"
      ],
      "execution_count": null,
      "outputs": []
    },
    {
      "cell_type": "code",
      "metadata": {
        "id": "lZdeQ6EsCvNS"
      },
      "source": [
        "metrica"
      ],
      "execution_count": null,
      "outputs": []
    }
  ]
}